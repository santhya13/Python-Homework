{
 "cells": [
  {
   "cell_type": "code",
   "execution_count": 21,
   "metadata": {},
   "outputs": [],
   "source": [
    "#Import Library\n",
    "from pathlib import Path\n",
    "import csv\n",
    "import os"
   ]
  },
  {
   "cell_type": "code",
   "execution_count": 22,
   "metadata": {},
   "outputs": [],
   "source": [
    "# Set File Path\n",
    "csvpath = Path(\"Resources/budget_data.csv\")"
   ]
  },
  {
   "cell_type": "code",
   "execution_count": 23,
   "metadata": {},
   "outputs": [],
   "source": [
    "#Create Lists\n",
    "net_revenue = []\n",
    "monthly_changes = []\n",
    "greatest_increase_month = \"\"\n",
    "greatest_decrease_month = \"\""
   ]
  },
  {
   "cell_type": "code",
   "execution_count": 24,
   "metadata": {},
   "outputs": [],
   "source": [
    "#Initialize the Variables\n",
    "months = 0\n",
    "previous_value = 0\n",
    "greatest_increase = 0\n",
    "greatest_decrease = 0"
   ]
  },
  {
   "cell_type": "code",
   "execution_count": 25,
   "metadata": {},
   "outputs": [],
   "source": [
    "# Open and Read the CSV\n",
    "with open(csvpath, \"r\") as csvfile:\n",
    "    csvreader = csv.reader(csvfile, delimiter=',')\n",
    "    header = next(csvreader)\n",
    "    \n",
    "    for row in csvreader:\n",
    "        \n",
    "        #Number of Months\n",
    "        months += 1\n",
    "        \n",
    "        #Total Net Revenue\n",
    "        net_revenue.append(int(row[1]))\n",
    "        \n",
    "        # Average Change in Net Revenue\n",
    "        for i in net_revenue:\n",
    "            current_value = int(i)\n",
    "            difference = current_value - previous_value\n",
    "            monthly_changes.append(difference)\n",
    "            previous_value = current_value\n",
    "        \n",
    "        # Average Change in Net Revenue Rounded\n",
    "        average_change = sum(monthly_changes)/len(monthly_changes)\n",
    "        rounded_avg = round(average_change, 2)\n",
    "        \n",
    "        # Find the Greatest Increase/Decrease\n",
    "        if difference > greatest_increase:\n",
    "            greatest_increase = difference\n",
    "            greatest_increase_month = str(row[0])\n",
    "        if difference < greatest_decrease:\n",
    "            greatest_decrease = difference\n",
    "            greatest_decrease_month = str(row[0])"
   ]
  },
  {
   "cell_type": "code",
   "execution_count": 26,
   "metadata": {},
   "outputs": [
    {
     "name": "stdout",
     "output_type": "stream",
     "text": [
      "Financial Analysis\n",
      "----------------------------------------\n",
      "Total Months: 86\n",
      "Total: $ 38382578\n",
      "Average Revenue Change: $179.39\n",
      "Greatest Increase in Revenue: Feb-2012 ($1926159)\n",
      "Greatest Decrease in Revenue: Sep-2013 ($-2196167)\n"
     ]
    }
   ],
   "source": [
    "#Print Resulting Analysis\n",
    "print(\"Financial Analysis\")\n",
    "print(\"----------------------------------------\")\n",
    "print(f\"Total Months: {months}\")\n",
    "print(f\"Total: $\", sum(net_revenue))\n",
    "print(f\"Average Revenue Change: ${rounded_avg}\")\n",
    "print(f\"Greatest Increase in Revenue: {greatest_increase_month} (${greatest_increase})\")\n",
    "print(f\"Greatest Decrease in Revenue: {greatest_decrease_month} (${greatest_decrease})\")"
   ]
  },
  {
   "cell_type": "code",
   "execution_count": null,
   "metadata": {},
   "outputs": [],
   "source": []
  }
 ],
 "metadata": {
  "kernelspec": {
   "display_name": "Python 3",
   "language": "python",
   "name": "python3"
  },
  "language_info": {
   "codemirror_mode": {
    "name": "ipython",
    "version": 3
   },
   "file_extension": ".py",
   "mimetype": "text/x-python",
   "name": "python",
   "nbconvert_exporter": "python",
   "pygments_lexer": "ipython3",
   "version": "3.7.4"
  }
 },
 "nbformat": 4,
 "nbformat_minor": 4
}
